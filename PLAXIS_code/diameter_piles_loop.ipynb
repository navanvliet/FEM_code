{
 "cells": [
  {
   "cell_type": "code",
   "execution_count": 5,
   "id": "aeb13df9",
   "metadata": {},
   "outputs": [],
   "source": [
    "from plxscripting.easy import *\n",
    "import pandas as pd\n",
    "import numpy as np\n",
    "import matplotlib.pyplot as plt\n",
    "from matplotlib.colors import ListedColormap, BoundaryNorm\n",
    "from matplotlib.path import Path\n",
    "from scipy.interpolate import griddata\n",
    "from geometry import plot_geometry"
   ]
  },
  {
   "cell_type": "code",
   "execution_count": 6,
   "id": "e1deb24e",
   "metadata": {},
   "outputs": [],
   "source": [
    "# Initialize Input server\n",
    "localhost_input = 10000\n",
    "password_input = '34gC44ynG?!Xe=LM'\n",
    "s_i, g_i = new_server('localhost', localhost_input, password=password_input)\n",
    "\n",
    "\n",
    "# Initialize output server\n",
    "localhost_output = 10001\n",
    "password_output = '34gC44ynG?!Xe=LM'\n",
    "s_o, g_o = new_server('localhost', localhost_output, password=password_output)"
   ]
  },
  {
   "cell_type": "code",
   "execution_count": 7,
   "id": "3f71ad56",
   "metadata": {},
   "outputs": [],
   "source": [
    "# Parameters\n",
    "E_timber = 11e6  # [kN/m^2] Stiffness\n",
    "Gamma_Timber = 4.2  # [kN/m^3] Density\n",
    "L_spacing = 1  # [m] Spacing\n",
    "\n",
    "# Arrays for Diameter and Fmax\n",
    "diameters = [0.2, 0.25, 0.3, 0.35, 0.4]  # [m]\n",
    "fmax_values = [100, 150, 200, 250, 300]  # [kN]\n",
    "\n",
    "# Loop to create Timber_Pile materials (1 Diameter for 1 Fmax)\n",
    "for D, F_max in zip(diameters, fmax_values):\n",
    "    identification_name = f\"Timber_Pile_D{D}_F{F_max}\"\n",
    "    g_i.embeddedbeammat(\n",
    "        (\"Identification\", identification_name),\n",
    "        (\"MaterialType\", \"Elastic\"),\n",
    "        (\"Gamma\", Gamma_Timber),\n",
    "        (\"Lspacing\", L_spacing),\n",
    "        (\"Diameter\", D),\n",
    "        (\"E\", E_timber),\n",
    "        (\"Fmax\", F_max)\n",
    "    )"
   ]
  },
  {
   "cell_type": "code",
   "execution_count": null,
   "id": "f4c73bd2",
   "metadata": {},
   "outputs": [],
   "source": []
  }
 ],
 "metadata": {
  "kernelspec": {
   "display_name": "my_env",
   "language": "python",
   "name": "python3"
  },
  "language_info": {
   "codemirror_mode": {
    "name": "ipython",
    "version": 3
   },
   "file_extension": ".py",
   "mimetype": "text/x-python",
   "name": "python",
   "nbconvert_exporter": "python",
   "pygments_lexer": "ipython3",
   "version": "3.9.21"
  }
 },
 "nbformat": 4,
 "nbformat_minor": 5
}
