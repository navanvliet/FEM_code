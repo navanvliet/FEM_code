{
 "cells": [
  {
   "cell_type": "markdown",
   "id": "4df25177",
   "metadata": {},
   "source": [
    "# PLAXIS Python Plugin\n",
    "\n",
    "## Import libraries\n",
    "Connect to the scripting reference: http://localhost:8888/notebooks/contents_2d.ipynb"
   ]
  },
  {
   "cell_type": "code",
   "execution_count": 1,
   "id": "83dee4a0",
   "metadata": {},
   "outputs": [],
   "source": [
    "from plxscripting.easy import *\n",
    "import pandas as pd\n",
    "import numpy as np\n",
    "import matplotlib.pyplot as plt\n",
    "from matplotlib.colors import ListedColormap, BoundaryNorm\n",
    "from matplotlib.path import Path\n",
    "from scipy.interpolate import griddata\n",
    "from geometry import plot_geometry\n",
    "\n",
    "colors = ['#0000ff', '#0033ff', '#0066ff', '#0099ff', '#00ccff',\n",
    "    '#00ffff', '#33ffcc', '#66ff99', '#99ff66', '#ccff33',\n",
    "    '#ffff00', '#ffcc00', '#ff9900', '#ff6600', '#ff3300',\n",
    "    '#ff0000']\n",
    "\n",
    "# Create the colormap\n",
    "cmap_PLAXIS = ListedColormap(colors)"
   ]
  },
  {
   "cell_type": "markdown",
   "id": "2350b2c5",
   "metadata": {},
   "source": [
    "## Connect to Plaxis server"
   ]
  },
  {
   "cell_type": "code",
   "execution_count": 2,
   "id": "f38be042",
   "metadata": {},
   "outputs": [],
   "source": [
    "# Initialize Input server\n",
    "localhost_input = 10000\n",
    "password_input = 'YQ+R8$e5xy+G26z~'\n",
    "s_i, g_i = new_server('localhost', localhost_input, password=password_input)\n",
    "\n",
    "\n",
    "# Initialize output server\n",
    "localhost_output = 10001\n",
    "password_output = 'YQ+R8$e5xy+G26z~'\n",
    "s_o, g_o = new_server('localhost', localhost_output, password=password_output)"
   ]
  },
  {
   "cell_type": "code",
   "execution_count": 3,
   "id": "16a7bb35",
   "metadata": {},
   "outputs": [
    {
     "data": {
      "text/plain": [
       "'OK'"
      ]
     },
     "execution_count": 3,
     "metadata": {},
     "output_type": "execute_result"
    }
   ],
   "source": [
    "s_i.open(r'C:\\Users\\nielsvanvliet\\PLAXIS_models\\test.p2dx')"
   ]
  },
  {
   "cell_type": "markdown",
   "id": "f64eb2ab",
   "metadata": {},
   "source": [
    "## Soil\n",
    "Download the soil layers of the HSss model from the TAK"
   ]
  },
  {
   "cell_type": "code",
   "execution_count": 4,
   "id": "188c665a",
   "metadata": {},
   "outputs": [
    {
     "data": {
      "text/html": [
       "<div>\n",
       "<style scoped>\n",
       "    .dataframe tbody tr th:only-of-type {\n",
       "        vertical-align: middle;\n",
       "    }\n",
       "\n",
       "    .dataframe tbody tr th {\n",
       "        vertical-align: top;\n",
       "    }\n",
       "\n",
       "    .dataframe thead th {\n",
       "        text-align: right;\n",
       "    }\n",
       "</style>\n",
       "<table border=\"1\" class=\"dataframe\">\n",
       "  <thead>\n",
       "    <tr style=\"text-align: right;\">\n",
       "      <th></th>\n",
       "      <th>Layer</th>\n",
       "      <th>Dutchname</th>\n",
       "      <th>gammadry</th>\n",
       "      <th>gammasat</th>\n",
       "      <th>cref</th>\n",
       "      <th>phi</th>\n",
       "      <th>psi</th>\n",
       "      <th>E50ref</th>\n",
       "      <th>Eoedref</th>\n",
       "      <th>Eurref</th>\n",
       "      <th>gamma07</th>\n",
       "      <th>G0ref</th>\n",
       "      <th>m</th>\n",
       "    </tr>\n",
       "  </thead>\n",
       "  <tbody>\n",
       "    <tr>\n",
       "      <th>0</th>\n",
       "      <td>0</td>\n",
       "      <td>Verharding</td>\n",
       "      <td>18.0</td>\n",
       "      <td>20.0</td>\n",
       "      <td>0.5</td>\n",
       "      <td>32.5</td>\n",
       "      <td>2.5</td>\n",
       "      <td>20000</td>\n",
       "      <td>20000</td>\n",
       "      <td>60000</td>\n",
       "      <td>0.0001</td>\n",
       "      <td>89500</td>\n",
       "      <td>0.5</td>\n",
       "    </tr>\n",
       "    <tr>\n",
       "      <th>1</th>\n",
       "      <td>1</td>\n",
       "      <td>Ophooglaag</td>\n",
       "      <td>17.0</td>\n",
       "      <td>19.0</td>\n",
       "      <td>1.0</td>\n",
       "      <td>30.0</td>\n",
       "      <td>0.0</td>\n",
       "      <td>17134</td>\n",
       "      <td>15000</td>\n",
       "      <td>50000</td>\n",
       "      <td>0.0001</td>\n",
       "      <td>81000</td>\n",
       "      <td>0.5</td>\n",
       "    </tr>\n",
       "    <tr>\n",
       "      <th>2</th>\n",
       "      <td>7</td>\n",
       "      <td>GeulopvullingKlei</td>\n",
       "      <td>13.9</td>\n",
       "      <td>13.9</td>\n",
       "      <td>7.1</td>\n",
       "      <td>20.0</td>\n",
       "      <td>0.0</td>\n",
       "      <td>4284</td>\n",
       "      <td>2200</td>\n",
       "      <td>15000</td>\n",
       "      <td>0.0002</td>\n",
       "      <td>15000</td>\n",
       "      <td>0.8</td>\n",
       "    </tr>\n",
       "    <tr>\n",
       "      <th>3</th>\n",
       "      <td>8</td>\n",
       "      <td>Hollandveen</td>\n",
       "      <td>10.5</td>\n",
       "      <td>10.5</td>\n",
       "      <td>3.6</td>\n",
       "      <td>18.0</td>\n",
       "      <td>0.0</td>\n",
       "      <td>2000</td>\n",
       "      <td>1085</td>\n",
       "      <td>7000</td>\n",
       "      <td>0.0002</td>\n",
       "      <td>7000</td>\n",
       "      <td>0.8</td>\n",
       "    </tr>\n",
       "    <tr>\n",
       "      <th>4</th>\n",
       "      <td>9</td>\n",
       "      <td>OudeZeeklei</td>\n",
       "      <td>16.5</td>\n",
       "      <td>16.5</td>\n",
       "      <td>5.0</td>\n",
       "      <td>26.0</td>\n",
       "      <td>0.0</td>\n",
       "      <td>7500</td>\n",
       "      <td>3780</td>\n",
       "      <td>20000</td>\n",
       "      <td>0.0002</td>\n",
       "      <td>47000</td>\n",
       "      <td>0.8</td>\n",
       "    </tr>\n",
       "  </tbody>\n",
       "</table>\n",
       "</div>"
      ],
      "text/plain": [
       "   Layer          Dutchname  gammadry  gammasat  cref   phi  psi  E50ref  \\\n",
       "0      0         Verharding      18.0      20.0   0.5  32.5  2.5   20000   \n",
       "1      1         Ophooglaag      17.0      19.0   1.0  30.0  0.0   17134   \n",
       "2      7  GeulopvullingKlei      13.9      13.9   7.1  20.0  0.0    4284   \n",
       "3      8        Hollandveen      10.5      10.5   3.6  18.0  0.0    2000   \n",
       "4      9        OudeZeeklei      16.5      16.5   5.0  26.0  0.0    7500   \n",
       "\n",
       "   Eoedref  Eurref  gamma07  G0ref    m  \n",
       "0    20000   60000   0.0001  89500  0.5  \n",
       "1    15000   50000   0.0001  81000  0.5  \n",
       "2     2200   15000   0.0002  15000  0.8  \n",
       "3     1085    7000   0.0002   7000  0.8  \n",
       "4     3780   20000   0.0002  47000  0.8  "
      ]
     },
     "execution_count": 4,
     "metadata": {},
     "output_type": "execute_result"
    }
   ],
   "source": [
    "df = pd.read_csv(\"../soillayers.csv\", skiprows=[0], encoding='latin1')\n",
    "df.head()"
   ]
  },
  {
   "cell_type": "markdown",
   "id": "e74f53ce",
   "metadata": {},
   "source": [
    "Import the materials to PLAXIS"
   ]
  },
  {
   "cell_type": "code",
   "execution_count": 5,
   "id": "cb4cc4c8",
   "metadata": {},
   "outputs": [],
   "source": [
    "# Iterate over the rows of the dataframe and create materials\n",
    "for _, row in df.iterrows():\n",
    "    # Extract the necessary parameters from the row\n",
    "    params = [\n",
    "        (\"SoilModel\", \"HS small\"),\n",
    "        (\"Identification\", row['Dutchname']),\n",
    "        (\"E50ref\", row['E50ref']),\n",
    "        (\"phi\", row['phi']),\n",
    "        (\"cref\", row['cref']),\n",
    "        (\"psi\", row['psi']),\n",
    "        (\"gammaunsat\", row['gammadry']),\n",
    "        (\"gammasat\", row['gammasat']),\n",
    "        (\"Eoedref\", row['Eoedref']),\n",
    "        (\"Eurref\", row['Eurref']),\n",
    "        (\"gamma07\", row['gamma07']),\n",
    "        (\"G0ref\", row['G0ref']),\n",
    "        (\"powerm\", row['m'])\n",
    "    ]\n",
    "    \n",
    "    # Create the soil material using the g_i.soilmat function\n",
    "    material = g_i.soilmat(*params)"
   ]
  },
  {
   "cell_type": "code",
   "execution_count": 6,
   "id": "1a51ad06",
   "metadata": {},
   "outputs": [],
   "source": [
    "# Set Allerod material with different properties, otherwise the program throws error\n",
    "g_i.Allerod.EOedRef = 7567"
   ]
  },
  {
   "cell_type": "markdown",
   "id": "4f5bdb41",
   "metadata": {},
   "source": [
    "### Initialize soil contour\n",
    "\n",
    "Bottoms layers for quick initialization and thereafter add the other layers as separate polygons."
   ]
  },
  {
   "cell_type": "code",
   "execution_count": 7,
   "id": "022084cf",
   "metadata": {},
   "outputs": [],
   "source": [
    "# Initialize soil contour\n",
    "xmin = -15\n",
    "xmax = 15\n",
    "ymin = -20\n",
    "ymax = 0.580\n",
    "g_i.SoilContour.initializerectangular(xmin, ymin, xmax, ymax)\n",
    "\n",
    "# Set borehole\n",
    "g_i.borehole(0)\n",
    "g_i.Borehole_1.Head = -0.4 # [m]\n",
    "\n",
    "# Define the number of soil layers\n",
    "n_soillayers = 7\n",
    "for n in range(n_soillayers):\n",
    "    g_i.soillayer(1)\n",
    "\n",
    "# Adjust thickness of the soil layers\n",
    "g_i.Soillayer_1.Zones[0].Top = -3.7\n",
    "g_i.Soillayer_1.Zones[0].Bottom = -5\n",
    "g_i.Soillayer_2.Zones[0].Bottom = -12\n",
    "g_i.Soillayer_3.Zones[0].Bottom = -12.5\n",
    "g_i.Soillayer_4.Zones[0].Bottom = -13\n",
    "g_i.Soillayer_5.Zones[0].Bottom = -15\n",
    "g_i.Soillayer_6.Zones[0].Bottom = -17\n",
    "g_i.Soillayer_7.Zones[0].Bottom = ymin\n",
    "\n",
    "# Apply soil layer materials\n",
    "g_i.Soil_1.Material = [m for m in g_i.Materials if m.Name == 'Hollandveen'][0]\n",
    "g_i.Soil_2.Material = [m for m in g_i.Materials if m.Name == 'Wadzand'][0]\n",
    "g_i.Soil_3.Material = [m for m in g_i.Materials if m.Name == 'Hydrobiaklei'][0]\n",
    "g_i.Soil_4.Material = [m for m in g_i.Materials if m.Name == 'Basisveen'][0]\n",
    "g_i.Soil_5.Material = [m for m in g_i.Materials if m.Name == 'EersteZandlaag'][0]\n",
    "g_i.Soil_6.Material = [m for m in g_i.Materials if m.Name == 'Allerod'][0]\n",
    "g_i.Soil_7.Material = [m for m in g_i.Materials if m.Name == 'TweedeZandlaag'][0]"
   ]
  },
  {
   "cell_type": "markdown",
   "id": "673aff76",
   "metadata": {},
   "source": [
    "## Create the coordinates for the necessary polygons"
   ]
  },
  {
   "cell_type": "code",
   "execution_count": 8,
   "id": "7e5f266e",
   "metadata": {},
   "outputs": [],
   "source": [
    "# Soil_I\n",
    "y_kesp = -1.104 # [m] height of the kesp\n",
    "y_GL = 0.58 # [m] ground level\n",
    "y_A = -3.7 # [m]\n",
    "x_A = (y_A - y_kesp)*3\n",
    "y_B = -2 # [m]\n",
    "x_B = (y_B - y_kesp)*3\n",
    "x_C = xmax # [m]\n",
    "y_C = y_B # [m]\n",
    "x_D = xmax # [m]\n",
    "y_D = y_A # [m]\n",
    "Point_A = [x_A, y_A]\n",
    "Point_B = [x_B, y_B]\n",
    "Point_C = [x_D, y_C]\n",
    "Point_D = [x_C, y_D]\n",
    "\n",
    "# Soil_II\n",
    "x_E, y_E = 0, y_kesp # [m], [m]\n",
    "x_F, y_F = 2.4, y_kesp # [m], [m]\n",
    "y_G = y_GL - 0.5 # [m]\n",
    "x_G = x_F + (y_G - y_F)*3 # [m]\n",
    "x_H, y_H = xmax, y_G # [m], [m]\n",
    "Point_E = [x_E, y_E]\n",
    "Point_F = [x_F, y_F]\n",
    "Point_G = [x_G, y_G]\n",
    "Point_H = [x_H, y_H]\n",
    "\n",
    "# Soil_III\n",
    "y_I = y_G # [m]\n",
    "x_I = (y_I - y_E)*3 # [m]\n",
    "x_H, y_H = xmax, y_G # [m], [m]\n",
    "Point_I = [x_I, y_I]\n",
    "\n",
    "# Soil_IV\n",
    "x_J, y_J = 0.65, y_H # [m], [m]\n",
    "x_K, y_K = x_J, y_kesp # [m], [m]\n",
    "Point_J = [x_J, y_J]\n",
    "Point_K = [x_K, y_K]\n",
    "\n",
    "# Soil_V\n",
    "x_L, y_L = x_J, y_GL # [m], [m]\n",
    "x_M, y_M = xmax, y_GL # [m], [m]\n",
    "Point_L = [x_L, y_L]\n",
    "Point_M = [x_M, y_M]\n",
    "\n",
    "# Wall\n",
    "x_N, y_N = x_E, y_GL # [m], [m]\n",
    "Point_N = [x_N, y_N]\n",
    "\n",
    "# Kesp\n",
    "x_O, y_O = -0.3, y_kesp # [m], [m]\n",
    "Point_O = [x_O, y_O]\n",
    "\n",
    "# Soil_Erosion_1\n",
    "x_P, y_P = x_E, -2.6 # [m], [m]\n",
    "y_Q = -2 # [m]\n",
    "a = (y_F-y_P)/(x_F-x_P)\n",
    "b = y_F - a*x_F\n",
    "x_Q = (y_Q-b)/a # [m]\n",
    "Point_P = [x_P, y_P]\n",
    "Point_Q = [x_Q, y_Q]\n",
    "\n",
    "# Soil_Erosion_2\n",
    "y_R = y_A # [m]\n",
    "x_R = (y_R - y_P)*3 # [m]\n",
    "Point_R = [x_R, y_R]"
   ]
  },
  {
   "cell_type": "code",
   "execution_count": 9,
   "id": "33cb4898",
   "metadata": {},
   "outputs": [],
   "source": [
    "points = {\n",
    "    \"Point_A\": Point_A,\n",
    "    \"Point_B\": Point_B,\n",
    "    \"Point_C\": Point_C,\n",
    "    \"Point_D\": Point_D,\n",
    "    \"Point_E\": Point_E,\n",
    "    \"Point_F\": Point_F,\n",
    "    \"Point_G\": Point_G,\n",
    "    \"Point_H\": Point_H,\n",
    "    \"Point_I\": Point_I,\n",
    "    \"Point_J\": Point_J,\n",
    "    \"Point_K\": Point_K,\n",
    "    \"Point_L\": Point_L,\n",
    "    \"Point_M\": Point_M,\n",
    "    \"Point_N\": Point_N,\n",
    "    \"Point_O\": Point_O,\n",
    "    \"Point_P\": Point_P,\n",
    "    \"Point_Q\": Point_Q,\n",
    "    \"Point_R\": Point_R}\n",
    "\n",
    "polygons = [\n",
    "    {\"name\": \"Soil_I\", \"points\": [Point_R, Point_P, Point_Q, Point_C, Point_D]},\n",
    "    {\"name\": \"Soil_II\", \"points\": [Point_Q, Point_F, Point_G, Point_H, Point_C]},\n",
    "    {\"name\": \"Soil_III\", \"points\": [Point_E, Point_I, Point_G, Point_F]},\n",
    "    {\"name\": \"Soil_IV\", \"points\": [Point_K, Point_J, Point_G, Point_F]},\n",
    "    {\"name\": \"Soil_V\", \"points\": [Point_J, Point_L, Point_M, Point_H]},\n",
    "    {\"name\": \"Wall\", \"points\": [Point_E, Point_N, Point_L, Point_K]},\n",
    "    {\"name\": \"Soil_Erosion_1\", \"points\": [Point_B, Point_E, Point_F, Point_Q]},\n",
    "    {\"name\": \"Soil_Erosion_2\", \"points\": [Point_A, Point_B, Point_Q, Point_P, Point_R]}]"
   ]
  },
  {
   "cell_type": "code",
   "execution_count": 10,
   "id": "15144f94",
   "metadata": {},
   "outputs": [
    {
     "data": {
      "image/png": "[encoded data removed]",
      "text/plain": [
       "<Figure size 1000x300 with 1 Axes>"
      ]
     },
     "metadata": {},
     "output_type": "display_data"
    }
   ],
   "source": [
    "plot_geometry(points, polygons)"
   ]
  },
  {
   "cell_type": "markdown",
   "id": "81ab9d65",
   "metadata": {},
   "source": [
    "## Create soil in PLAXIS"
   ]
  },
  {
   "cell_type": "code",
   "execution_count": 11,
   "id": "2f28350e",
   "metadata": {},
   "outputs": [],
   "source": [
    "g_i.polygon(Point_R, Point_P, Point_Q, Point_C, Point_D)\n",
    "g_i.Polygon_1.Name = 'Soil_I'\n",
    "g_i.Soil_8.Material = [m for m in g_i.Materials if m.Name == 'Hollandveen'][0]"
   ]
  },
  {
   "cell_type": "code",
   "execution_count": 12,
   "id": "5fc0cad7",
   "metadata": {},
   "outputs": [],
   "source": [
    "g_i.polygon(Point_Q, Point_F, Point_G, Point_H, Point_C)\n",
    "g_i.Polygon_1.Name = 'Soil_II'\n",
    "g_i.Soil_9.Material = [m for m in g_i.Materials if m.Name == 'GeulopvullingKlei'][0]"
   ]
  },
  {
   "cell_type": "code",
   "execution_count": 13,
   "id": "e3037489",
   "metadata": {},
   "outputs": [],
   "source": [
    "g_i.polygon(Point_E, Point_I, Point_G, Point_F)\n",
    "g_i.Polygon_1.Name = 'Soil_III'\n",
    "g_i.Soil_10.Material = [m for m in g_i.Materials if m.Name == 'GeulopvullingKlei'][0]"
   ]
  },
  {
   "cell_type": "code",
   "execution_count": 14,
   "id": "8d7c400b",
   "metadata": {},
   "outputs": [],
   "source": [
    "g_i.polygon(Point_K, Point_J, Point_G, Point_F)\n",
    "g_i.Polygon_1.Name = 'Soil_IV'\n",
    "g_i.Soil_11.Material = [m for m in g_i.Materials if m.Name == 'GeulopvullingKlei'][0]"
   ]
  },
  {
   "cell_type": "code",
   "execution_count": 15,
   "id": "090e8f4c",
   "metadata": {},
   "outputs": [],
   "source": [
    "g_i.polygon(Point_J, Point_L, Point_M, Point_H)\n",
    "g_i.Polygon_1.Name = 'Soil_V'\n",
    "g_i.Soil_12.Material = [m for m in g_i.Materials if m.Name == 'Verharding'][0]"
   ]
  },
  {
   "cell_type": "code",
   "execution_count": 16,
   "id": "ccd521e0",
   "metadata": {},
   "outputs": [],
   "source": [
    "g_i.polygon(Point_B, Point_E, Point_F, Point_Q)\n",
    "g_i.Polygon_1.Name = 'Soil_Erosion_1'\n",
    "g_i.Soil_13.Material = [m for m in g_i.Materials if m.Name == 'GeulopvullingKlei'][0]"
   ]
  },
  {
   "cell_type": "code",
   "execution_count": 17,
   "id": "b36f80de",
   "metadata": {},
   "outputs": [],
   "source": [
    "g_i.polygon(Point_A, Point_B, Point_Q, Point_P, Point_R)\n",
    "g_i.Polygon_1.Name = 'Soil_Erosion_2'\n",
    "g_i.Soil_14.Material = [m for m in g_i.Materials if m.Name == 'Hollandveen'][0]"
   ]
  },
  {
   "cell_type": "markdown",
   "id": "fff1d183",
   "metadata": {},
   "source": [
    "## Structures\n",
    "\n",
    "### Kesp"
   ]
  },
  {
   "cell_type": "code",
   "execution_count": 18,
   "id": "72064056",
   "metadata": {},
   "outputs": [],
   "source": [
    "g_i.gotostructures()\n",
    "\n",
    "# Create a plate material\n",
    "EA = 1.21e9 # [kN/m] = [N/mm]\n",
    "EI = 6.88e9*1e-6 # [kN/m^2/m] = 10^6 [N/mm^2/mm]\n",
    "nu = 0.35\n",
    "\n",
    "g_i.platemat(\"Identification\", \"Timber_Kesp\",\n",
    "             \"MaterialType\", \"Elastic\",\n",
    "             \"EA1\", EA,\n",
    "             \"EI\", EI,\n",
    "             \"StructNu\", nu)\n",
    "\n",
    "# Create plate\n",
    "Kesp_Line = g_i.line(Point_O, Point_F)\n",
    "g_i.Line_1.Name = 'Kesp_Line'\n",
    "\n",
    "Kesp = g_i.plate(g_i.Kesp_Line)\n",
    "g_i.Plate_1.Name = 'Kesp'\n",
    "\n",
    "# Assign material to plate\n",
    "g_i.Kesp.Material = [m for m in g_i.Materials if m.Name == 'Timber_Kesp'][0]\n",
    "\n",
    "# Add positive interface\n",
    "g_i.posinterface(g_i.Kesp_Line)\n",
    "g_i.PositiveInterface_1.Name = 'Positive_IF_Kesp'\n",
    "\n",
    "# Add negative interface\n",
    "g_i.neginterface(g_i.Kesp_Line)\n",
    "g_i.NegativeInterface_1.Name = 'Negative_IF_Kesp'"
   ]
  },
  {
   "cell_type": "markdown",
   "id": "43056814",
   "metadata": {},
   "source": [
    "### Wall"
   ]
  },
  {
   "cell_type": "code",
   "execution_count": 19,
   "id": "15dac0ff",
   "metadata": {},
   "outputs": [],
   "source": [
    "# Create geometry wall\n",
    "g_i.polygon(Point_E, Point_N, Point_L, Point_K)\n",
    "g_i.Polygon_1.Name = 'Wall'\n",
    "\n",
    "# Create wall material\n",
    "E_masonry = 8e6 # [kN/m^2]\n",
    "nu_masonry = 0.2 # [-]\n",
    "gammaunsat_masonry = 19.5 # [kN/m^3]\n",
    "\n",
    "g_i.soilmat(\"Identification\", \"Masonry\",\n",
    "            \"SoilModel\", \"Linear Elastic\",\n",
    "            \"DrainageType\", \"Non-porous\",\n",
    "            \"gammaunsat\", gammaunsat_masonry,\n",
    "            \"Eref\", E_masonry,\n",
    "            \"nu\", nu_masonry)\n",
    "\n",
    "# Assign wall material\n",
    "g_i.Soil_15.Material = [m for m in g_i.Materials if m.Name == 'Masonry'][0]"
   ]
  },
  {
   "cell_type": "markdown",
   "id": "524a4ff9",
   "metadata": {},
   "source": [
    "### Piles"
   ]
  },
  {
   "cell_type": "code",
   "execution_count": 20,
   "id": "d6c45367",
   "metadata": {},
   "outputs": [],
   "source": [
    "# Create geometry piles\n",
    "n_piles = 3\n",
    "pile_spacing = 1.1 #[m]\n",
    "\n",
    "# geometry pile 1\n",
    "pile_1_x_bot = 0.1375 \n",
    "pile_1_y_bot = -13.29\n",
    "pile_1_x_top = pile_1_x_bot\n",
    "pile_1_y_top = -1.104 - 0.05\n",
    "\n",
    "Point_1_Pile_1 = [pile_1_x_bot, pile_1_y_bot]\n",
    "Point_2_Pile_1 = [pile_1_x_top, pile_1_y_top]\n",
    "\n",
    "# geometry pile 2\n",
    "pile_2_x_bot = 0.1375 + pile_spacing\n",
    "pile_2_y_bot = -13.29\n",
    "pile_2_x_top = pile_2_x_bot\n",
    "pile_2_y_top = -1.104 - 0.05\n",
    "\n",
    "Point_1_Pile_2 = [pile_2_x_bot, pile_2_y_bot]\n",
    "Point_2_Pile_2 = [pile_2_x_top, pile_2_y_top]\n",
    "\n",
    "# geometry pile 3\n",
    "pile_3_x_bot = 0.1375 + 2*pile_spacing\n",
    "pile_3_y_bot = -13.29\n",
    "pile_3_x_top = pile_3_x_bot\n",
    "pile_3_y_top = -1.104 - 0.05\n",
    "\n",
    "Point_1_Pile_3 = [pile_3_x_bot, pile_3_y_bot]\n",
    "Point_2_Pile_3 = [pile_3_x_top, pile_3_y_top]\n",
    "\n",
    "# Create timber material\n",
    "E_timber = 11e6 # [kN/m^2]\n",
    "nu_timber = 0.35 # [-]\n",
    "\n",
    "# Create piles\n",
    "Pile_1 = g_i.embeddedbeam(Point_1_Pile_1, Point_2_Pile_1)\n",
    "Pile_2 = g_i.embeddedbeam(Point_1_Pile_2, Point_2_Pile_2)\n",
    "Pile_3 = g_i.embeddedbeam(Point_1_Pile_3, Point_2_Pile_3)\n",
    "\n",
    "# Rename embedded beams\n",
    "g_i.EmbeddedBeam_1.Name = \"Pile_1\"\n",
    "g_i.EmbeddedBeam_2.Name = \"Pile_2\"\n",
    "g_i.EmbeddedBeam_3.Name = \"Pile_3\"\n",
    "\n",
    "# Rename lines piles\n",
    "g_i.Line_1.Name = 'Pile_1_Line'\n",
    "g_i.Line_2.Name = 'Pile_2_Line'\n",
    "g_i.Line_3.Name = 'Pile_3_Line'\n",
    "\n",
    "E_timber = 11e6 # [kN/m^2] Stiffness\n",
    "D = 0.2 # [m] Diameter\n",
    "L_spacing = 1 # [m]\n",
    "Gamma_Timber = 4.2 # [kN/m^3] Density\n",
    "F_max = 1/4*np.pi*D**2 * 1e6 * 21e-3 # [kN] Base resistance\n",
    "\n",
    "# Create Timber_Pile material\n",
    "g_i.embeddedbeammat((\"Identification\", \"Timber_Pile\"),\n",
    "                    (\"MaterialType\", \"Elastic\"),\n",
    "                    (\"Gamma\", Gamma_Timber),\n",
    "                    (\"Lspacing\", L_spacing),\n",
    "                    (\"Diameter\", D),\n",
    "                    (\"E\", E_timber),\n",
    "                    (\"Fmax\",F_max))\n",
    "\n",
    "# Assign Timber_Pile material to Embedded beams\n",
    "g_i.Pile_1.Material = [m for m in g_i.Materials if m.Name == 'Timber_Pile'][0]\n",
    "g_i.Pile_2.Material = [m for m in g_i.Materials if m.Name == 'Timber_Pile'][0]\n",
    "g_i.Pile_3.Material = [m for m in g_i.Materials if m.Name == 'Timber_Pile'][0]"
   ]
  },
  {
   "cell_type": "markdown",
   "id": "1041cf97",
   "metadata": {},
   "source": [
    "## Create add-on pile for connection\n",
    "Create a plate element for the last part of the pile that is stiff to enable the plate-plate elastoplastic connection, which is not possible between an embedded beam row and a plate"
   ]
  },
  {
   "cell_type": "code",
   "execution_count": 21,
   "id": "0af3b7c2",
   "metadata": {},
   "outputs": [],
   "source": [
    "pile_1_yplate = y_O\n",
    "Point_3_pileplate_1 = [pile_1_x_top, pile_1_yplate]\n",
    "\n",
    "pile_2_yplate = y_O\n",
    "Point_3_pileplate_2 = [pile_2_x_top, pile_2_yplate]\n",
    "\n",
    "pile_3_yplate = y_O\n",
    "Point_3_pileplate_3 = [pile_3_x_top, pile_3_yplate]\n",
    "\n",
    "Pile_1_plate = g_i.line(Point_3_pileplate_1, Point_2_Pile_1)\n",
    "g_i.Line_1.Name = 'Pileplate_1_Line'\n",
    "Pileplate_1 = g_i.plate(g_i.Pileplate_1_Line)\n",
    "g_i.Plate_1.Name = 'Pileplate_1'\n",
    "\n",
    "Pile_2_plate = g_i.line(Point_3_pileplate_2, Point_2_Pile_2)\n",
    "g_i.Line_1.Name = 'Pileplate_2_Line'\n",
    "Pileplate_2 = g_i.plate(g_i.Pileplate_2_Line)\n",
    "g_i.Plate_1.Name = 'Pileplate_2'\n",
    "\n",
    "Pile_3_plate = g_i.line(Point_3_pileplate_3, Point_2_Pile_3)\n",
    "g_i.Line_1.Name = 'Pileplate_3_Line'\n",
    "Pileplate_3 = g_i.plate(g_i.Pileplate_3_Line)\n",
    "g_i.Plate_1.Name = 'Pileplate_3'\n",
    "\n",
    "EA_dummy = EA * 1e3 # [kN/m^2/mm]\n",
    "EI_dummy = EI * 1e3 # [kN/mm^2/mm]\n",
    "nu_dummy = nu_timber # [-]\n",
    "\n",
    "# Create plate\n",
    "g_i.platemat(\"Identification\", \"Timber_Pileplate\",\n",
    "             \"MaterialType\", \"Elastic\",\n",
    "             \"EA1\", EA_dummy,\n",
    "             \"EI\", EI_dummy,\n",
    "             \"StructNu\", nu_dummy)\n",
    "\n",
    "g_i.Pileplate_1.Material = [m for m in g_i.Materials if m.Name == 'Timber_Pileplate'][0]\n",
    "g_i.Pileplate_2.Material = [m for m in g_i.Materials if m.Name == 'Timber_Pileplate'][0]\n",
    "g_i.Pileplate_3.Material = [m for m in g_i.Materials if m.Name == 'Timber_Pileplate'][0]"
   ]
  },
  {
   "cell_type": "markdown",
   "id": "505ef820",
   "metadata": {},
   "source": [
    "## Connection pile-kesp"
   ]
  },
  {
   "cell_type": "code",
   "execution_count": 22,
   "id": "7f4fa3db",
   "metadata": {},
   "outputs": [],
   "source": [
    "Connection_1 = g_i.connection(g_i.Pileplate_1, g_i.Kesp)\n",
    "Connection_2 = g_i.connection(g_i.Pileplate_2, g_i.Kesp)\n",
    "Connection_3 = g_i.connection(g_i.Pileplate_3, g_i.Kesp)\n",
    "\n",
    "for i in range(1, 4):  # Loops from 1 to 3\n",
    "    connection = getattr(g_i, f'Connection_{i}')\n",
    "    connection.Rotation = \"Elastoplastic spring\"\n",
    "    connection.Stiffness = 400  # [kNm/m/rad]\n",
    "    connection.Mp = 3           # [kNm/m]"
   ]
  },
  {
   "cell_type": "markdown",
   "id": "7e15912f",
   "metadata": {},
   "source": [
    "## Degraded pile material\n",
    "Soft shell based on Pagella's research 0.34 mm/year degradation  \n",
    "f_c_0_wet based on A_sound  \n",
    "E_c_0_wet based on f_c_0_wet"
   ]
  },
  {
   "cell_type": "code",
   "execution_count": 23,
   "id": "12fceb40",
   "metadata": {},
   "outputs": [
    {
     "data": {
      "text/plain": [
       "<EmbeddedBeamMat {F6E861B4-00DC-4506-B071-37DB96D6EC18}>"
      ]
     },
     "execution_count": 23,
     "metadata": {},
     "output_type": "execute_result"
    }
   ],
   "source": [
    "years = 100\n",
    "soft_shell = max(0, years-50)*0.34 # [mm] soft shell thickness\n",
    "D_sound = D - soft_shell/1000*2 # [m] Diameter intact\n",
    "\n",
    "A_sound = np.pi*(D_sound/2)**2 # [m^2] Area intact\n",
    "A = np.pi*(D/2)**2 # [m^2] Area full cross-section\n",
    "A_percentage = A_sound/A*100 # [-] Area intact / full cross-section\n",
    "\n",
    "f_c_0_wet = 14.78*np.exp(0.0182*(A_percentage-100)) # [MPa] Compression strength\n",
    "E_c_0_wet = (f_c_0_wet - 0.52)/0.0013*1e3 # [kN/m^2] Stiffness\n",
    "\n",
    "F_degraded = A_sound*1e6*f_c_0_wet*1e-3 # [kN] Base resistance intact\n",
    "\n",
    "\n",
    "# Create Timber_Pile_degraded material\n",
    "g_i.embeddedbeammat((\"Identification\", \"Timber_Pile_degraded\"),\n",
    "                    (\"MaterialType\", \"Elastic\"),\n",
    "                    (\"Gamma\", Gamma_Timber),\n",
    "                    (\"Lspacing\", L_spacing),\n",
    "                    (\"Diameter\", D_sound),\n",
    "                    (\"E\", E_timber),\n",
    "                    (\"Fmax\",F_max))"
   ]
  },
  {
   "cell_type": "markdown",
   "id": "2be93151",
   "metadata": {},
   "source": [
    "## Flow conditions"
   ]
  },
  {
   "cell_type": "code",
   "execution_count": 24,
   "id": "6618606f",
   "metadata": {},
   "outputs": [],
   "source": [
    "g_i.gotoflow()\n",
    "\n",
    "WL_normal = g_i.waterlevel((xmin, -0.4), (xmax, -0.4)) # [m]\n",
    "g_i.UserWaterLevel_1.Name = \"WL_normal\"\n",
    "\n",
    "WL_excavation = g_i.waterlevel((xmin, y_kesp-0.5), (xmax, y_kesp-0.5)) # [m]\n",
    "g_i.UserWaterLevel_1.Name = \"WL_excavation\""
   ]
  },
  {
   "cell_type": "markdown",
   "id": "cce4d33e",
   "metadata": {},
   "source": [
    "### Creating load"
   ]
  },
  {
   "cell_type": "code",
   "execution_count": 25,
   "id": "5b0b5c8d",
   "metadata": {},
   "outputs": [],
   "source": [
    "# Create the top TAK load of 10 kN/m\n",
    "g_i.gotostructures()\n",
    "line_TAK = g_i.line((x_L, y_L), (xmax, y_L))[-1]\n",
    "TAK_load = g_i.lineload(line_TAK)\n",
    "g_i.LineLoad_1.Name = \"TAK_load\"\n",
    "g_i.TAK_load.qy_start = -10 # [kN/m/m]"
   ]
  },
  {
   "cell_type": "markdown",
   "id": "44b0f6e7",
   "metadata": {},
   "source": [
    "## Staged construction\n",
    "\n",
    "### Create Phases"
   ]
  },
  {
   "cell_type": "code",
   "execution_count": 26,
   "id": "669da88f",
   "metadata": {},
   "outputs": [
    {
     "name": "stdout",
     "output_type": "stream",
     "text": [
      "Phases Identification property: ['Initial phase', 'Phase_1', 'Phase_2', 'Phase_3', 'Phase_4', 'Phase_5', 'Phase_6', 'Phase_7', 'Phase_8', 'Phase_9', 'Phase_10']\n"
     ]
    }
   ],
   "source": [
    "# Go to Staged Construction\n",
    "g_i.gotostages()\n",
    "\n",
    "# Set initial phase idenitification\n",
    "Phase_0 = g_i.Phases[0]\n",
    "n_phases = 10\n",
    "phases = [Phase_0]\n",
    "\n",
    "# Create other phases in a loop\n",
    "for i in range(1, n_phases + 1):\n",
    "    new_phase = g_i.phase(phases[i - 1])\n",
    "    phases.append(new_phase)\n",
    "\n",
    "# Display all phases\n",
    "phases_id = g_i.Phases.Identification.value\n",
    "print(f'Phases Identification property: {phases_id}')"
   ]
  },
  {
   "cell_type": "markdown",
   "id": "5a8e4afb",
   "metadata": {},
   "source": [
    "### Phase 0: Initial phase"
   ]
  },
  {
   "cell_type": "code",
   "execution_count": 27,
   "id": "6cc7a825",
   "metadata": {},
   "outputs": [],
   "source": [
    "soils_phase0 = [g_i.Soil_I, g_i.Soil_II, g_i.Soil_III, g_i.Soil_Erosion_1, g_i.Soil_Erosion_2]\n",
    "\n",
    "for soil in soils_phase0:\n",
    "    soil.activate(phases[0])"
   ]
  },
  {
   "cell_type": "markdown",
   "id": "15af7720",
   "metadata": {},
   "source": [
    "### Phase 1: Plastic-0 step"
   ]
  },
  {
   "cell_type": "code",
   "execution_count": 28,
   "id": "9c0a9fd3",
   "metadata": {},
   "outputs": [],
   "source": [
    "phase = phases[1]\n",
    "phase.Deform.ResetDisplacements = True\n",
    "phase.Deform.CalculationType = \"Drained\""
   ]
  },
  {
   "cell_type": "markdown",
   "id": "9ef69e7f",
   "metadata": {},
   "source": [
    "### Phase 2: Lower waterlevel"
   ]
  },
  {
   "cell_type": "code",
   "execution_count": 29,
   "id": "01ab54aa",
   "metadata": {},
   "outputs": [
    {
     "data": {
      "text/plain": [
       "'OK'"
      ]
     },
     "execution_count": 29,
     "metadata": {},
     "output_type": "execute_result"
    }
   ],
   "source": [
    "phase = phases[2]\n",
    "phase.Deform.ResetDisplacements = True\n",
    "phase.Deform.CalculationType = \"Drained\"\n",
    "\n",
    "g_i.setglobalwaterlevel(g_i.WL_excavation, g_i.Phase_2)"
   ]
  },
  {
   "cell_type": "markdown",
   "id": "d985263c",
   "metadata": {},
   "source": [
    "### Phase 3: Excavate"
   ]
  },
  {
   "cell_type": "code",
   "execution_count": 30,
   "id": "89472c86",
   "metadata": {},
   "outputs": [],
   "source": [
    "phase = phases[3]\n",
    "phase.Deform.ResetDisplacements = True\n",
    "phase.Deform.CalculationType = \"Drained\"\n",
    "\n",
    "for phase in phases[3:]:\n",
    "    g_i.Soil_III.deactivate(phase)"
   ]
  },
  {
   "cell_type": "markdown",
   "id": "943229b9",
   "metadata": {},
   "source": [
    "### Phase 4: Add piles"
   ]
  },
  {
   "cell_type": "code",
   "execution_count": 31,
   "id": "ef11a720",
   "metadata": {},
   "outputs": [],
   "source": [
    "phase = phases[4]\n",
    "phase.Deform.ResetDisplacements = True\n",
    "phase.Deform.CalculationType = \"Drained\"\n",
    "\n",
    "piles = [g_i.Pile_1, g_i.Pile_2, g_i.Pile_3]\n",
    "pileplates = [g_i.Pileplate_1, g_i.Pileplate_2, g_i.Pileplate_3]\n",
    "\n",
    "for pile in piles:\n",
    "    for phase in phases[4:]:\n",
    "        pile.activate(phase)\n",
    "\n",
    "for pileplate in pileplates:\n",
    "    for phase in phases[4:]:\n",
    "        pileplate.activate(phase)"
   ]
  },
  {
   "cell_type": "markdown",
   "id": "798c4556",
   "metadata": {},
   "source": [
    "### Phase 5: Add wall, kesp, interfaces"
   ]
  },
  {
   "cell_type": "code",
   "execution_count": 32,
   "id": "9d5c0057",
   "metadata": {},
   "outputs": [],
   "source": [
    "phase = phases[5]\n",
    "phase.Deform.ResetDisplacements = False\n",
    "phase.Deform.CalculationType = \"Drained\"\n",
    "\n",
    "elements = [g_i.Wall, g_i.Kesp, g_i.Negative_IF_Kesp, g_i.Positive_IF_Kesp, g_i.Connection_1, g_i.Connection_2, g_i.Connection_3]\n",
    "\n",
    "for element in elements:\n",
    "    for phase in phases[5:]:\n",
    "        element.activate(phase)"
   ]
  },
  {
   "cell_type": "markdown",
   "id": "b97f1527",
   "metadata": {},
   "source": [
    "### Phase 6: Backfill soil"
   ]
  },
  {
   "cell_type": "code",
   "execution_count": 33,
   "id": "fbb4e110",
   "metadata": {},
   "outputs": [],
   "source": [
    "phase = phases[6]\n",
    "phase.Deform.ResetDisplacements = False\n",
    "phase.Deform.CalculationType = \"Drained\"\n",
    "\n",
    "for phase in phases[6:]:\n",
    "    g_i.Soil_IV.activate(phase)\n",
    "    g_i.Soil_V.activate(phase)"
   ]
  },
  {
   "cell_type": "markdown",
   "id": "8d60754a",
   "metadata": {},
   "source": [
    "### Phase 7: Heighten waterlevel"
   ]
  },
  {
   "cell_type": "code",
   "execution_count": 34,
   "id": "69167a94",
   "metadata": {},
   "outputs": [
    {
     "data": {
      "text/plain": [
       "'OK'"
      ]
     },
     "execution_count": 34,
     "metadata": {},
     "output_type": "execute_result"
    }
   ],
   "source": [
    "phase = phases[7]\n",
    "phase.Deform.ResetDisplacements = False\n",
    "phase.Deform.CalculationType = \"Drained\"\n",
    "g_i.setglobalwaterlevel(g_i.WL_normal, g_i.Phase_7)"
   ]
  },
  {
   "cell_type": "markdown",
   "id": "32e16e4e",
   "metadata": {},
   "source": [
    "### Phase 8: Apply current soil bedding"
   ]
  },
  {
   "cell_type": "code",
   "execution_count": 35,
   "id": "7006a125",
   "metadata": {},
   "outputs": [],
   "source": [
    "phase = phases[8]\n",
    "phase.Deform.ResetDisplacements = False\n",
    "phase.Deform.CalculationType = \"Drained\"\n",
    "\n",
    "for phase in phases[8:]:\n",
    "    g_i.Soil_Erosion_1.deactivate(phase)\n",
    "    g_i.Soil_Erosion_2.deactivate(phase)"
   ]
  },
  {
   "cell_type": "markdown",
   "id": "6038cd23",
   "metadata": {},
   "source": [
    "### Phase 9: Degradation timber piles"
   ]
  },
  {
   "cell_type": "code",
   "execution_count": 36,
   "id": "ffb7273a",
   "metadata": {},
   "outputs": [],
   "source": [
    "phase = phases[9]\n",
    "phase.Deform.ResetDisplacements = False\n",
    "phase.Deform.CalculationType = \"Drained\"\n",
    "\n",
    "# Assign Timber_Pile material to Embedded beams\n",
    "\n",
    "for phase in phases[9:]:\n",
    "    g_i.Pile_1_1.Material[phase] = [m for m in g_i.Materials if m.Name == 'Timber_Pile_degraded'][0]\n",
    "    g_i.Pile_2_1.Material[phase] = [m for m in g_i.Materials if m.Name == 'Timber_Pile_degraded'][0]\n",
    "    g_i.Pile_3_1.Material[phase] = [m for m in g_i.Materials if m.Name == 'Timber_Pile_degraded'][0]"
   ]
  },
  {
   "cell_type": "markdown",
   "id": "c4792ed8",
   "metadata": {},
   "source": [
    "### Phase 10: Apply loads"
   ]
  },
  {
   "cell_type": "code",
   "execution_count": 37,
   "id": "9b678710",
   "metadata": {},
   "outputs": [
    {
     "data": {
      "text/plain": [
       "'OK'"
      ]
     },
     "execution_count": 37,
     "metadata": {},
     "output_type": "execute_result"
    }
   ],
   "source": [
    "phase = phases[10]\n",
    "phase.Deform.ResetDisplacements = False\n",
    "phase.Deform.CalculationType = \"Drained\"\n",
    "\n",
    "g_i.TAK_load.activate(phase)"
   ]
  },
  {
   "cell_type": "markdown",
   "id": "3e40f528",
   "metadata": {},
   "source": [
    "# Mesh"
   ]
  },
  {
   "cell_type": "code",
   "execution_count": 38,
   "id": "bcc804f7",
   "metadata": {},
   "outputs": [
    {
     "data": {
      "text/plain": [
       "'Generated 1589 elements, 13367 nodes'"
      ]
     },
     "execution_count": 38,
     "metadata": {},
     "output_type": "execute_result"
    }
   ],
   "source": [
    "g_i.gotomesh()\n",
    "g_i.mesh()"
   ]
  },
  {
   "cell_type": "markdown",
   "id": "d7bd7e73",
   "metadata": {},
   "source": [
    "## Calculate"
   ]
  },
  {
   "cell_type": "code",
   "execution_count": 39,
   "id": "b993c635",
   "metadata": {},
   "outputs": [],
   "source": [
    "g_i.gotostages()\n",
    "\n",
    "for i in range(len(phases)):\n",
    "    g_i.calculate(phases[i])"
   ]
  },
  {
   "cell_type": "code",
   "execution_count": 40,
   "id": "0b72edd9",
   "metadata": {},
   "outputs": [
    {
     "data": {
      "text/plain": [
       "10001"
      ]
     },
     "execution_count": 40,
     "metadata": {},
     "output_type": "execute_result"
    }
   ],
   "source": [
    "# Select the final phase to view results\n",
    "phase = phases[-1]\n",
    "g_i.view(phase)"
   ]
  },
  {
   "cell_type": "markdown",
   "id": "76848da8",
   "metadata": {},
   "source": [
    "## Store results\n",
    "\n",
    "### Initially add a column that returns the pile row number"
   ]
  },
  {
   "cell_type": "code",
   "execution_count": 41,
   "id": "fd0bd2e7",
   "metadata": {},
   "outputs": [],
   "source": [
    "# Use the geometry of the piles to split the results for the different piles by creating an index array\n",
    "def split_pile_results(n_piles=n_piles, pile_spacing=pile_spacing, pile_1_x_top=pile_1_x_top):\n",
    "    x = g_o.getresults(phase, g_o.ResultTypes.EmbeddedBeam.X, \"node\")\n",
    "    pile_number = np.zeros(len(x))\n",
    "\n",
    "    x_pile = np.zeros(n_piles)\n",
    "    for i in range(len(x_pile)):\n",
    "        x_pile[i] = pile_1_x_top + pile_spacing * i\n",
    "\n",
    "    for i in range(len(x)):\n",
    "        for j in range(n_piles):\n",
    "            if np.isclose(x[i], x_pile[j], rtol=1e-05, atol=1e-08):\n",
    "                pile_number[i] = int(j+1)\n",
    "\n",
    "    return pile_number\n",
    "\n",
    "pile_number = split_pile_results()"
   ]
  },
  {
   "cell_type": "markdown",
   "id": "25fe39ea",
   "metadata": {},
   "source": [
    "### Store soil results for all phases"
   ]
  },
  {
   "cell_type": "code",
   "execution_count": 42,
   "id": "f8d8ba66",
   "metadata": {},
   "outputs": [
    {
     "name": "stdout",
     "output_type": "stream",
     "text": [
      "Processing phase: 0\n",
      "Processing phase: 1\n",
      "Processing phase: 2\n",
      "Processing phase: 3\n",
      "Processing phase: 4\n",
      "Processing phase: 5\n",
      "Processing phase: 6\n",
      "Processing phase: 7\n",
      "Processing phase: 8\n",
      "Processing phase: 9\n",
      "Processing phase: 10\n",
      "Combined results saved to 'Results_soil.csv'.\n"
     ]
    }
   ],
   "source": [
    "def export_soil_results(phases, output_csv):\n",
    "    \"\"\"\n",
    "    Exports embedded beam results from all phases into a single CSV file.\n",
    "\n",
    "    Parameters:\n",
    "    - phases: list of phase objects (e.g., g_i.Phases)\n",
    "    - g_o: output object from PLAXIS scripting\n",
    "    - output_csv: path to the final combined CSV file\n",
    "    \"\"\"\n",
    "    all_data = []\n",
    "\n",
    "    for i in range(len(phases)):\n",
    "        phase = phases[i]\n",
    "        g_i.view(phase)\n",
    "        phase_id = i\n",
    "        print(f\"Processing phase: {phase_id}\")\n",
    "        \n",
    "        # Retrieve results\n",
    "        x = np.array(g_o.getresults(phase, g_o.ResultTypes.Soil.X, \"node\"))\n",
    "        y = np.array(g_o.getresults(phase, g_o.ResultTypes.Soil.Y, \"node\"))\n",
    "        Ux = np.array(g_o.getresults(phase, g_o.ResultTypes.Soil.Ux, \"node\"))\n",
    "        Uy = np.array(g_o.getresults(phase, g_o.ResultTypes.Soil.Uy, \"node\"))\n",
    "        Utot = np.array(g_o.getresults(phase, g_o.ResultTypes.Soil.Utot, \"node\"))\n",
    "        PUx = np.array(g_o.getresults(phase, g_o.ResultTypes.Soil.PUx, \"node\"))\n",
    "        PUy = np.array(g_o.getresults(phase, g_o.ResultTypes.Soil.PUy, \"node\"))\n",
    "        PUtot = np.array(g_o.getresults(phase, g_o.ResultTypes.Soil.PUtot, \"node\"))\n",
    "        SigxxT = np.array(g_o.getresults(phase, g_o.ResultTypes.Soil.SigxxT, \"node\"))\n",
    "        SigyyT = np.array(g_o.getresults(phase, g_o.ResultTypes.Soil.SigyyT, \"node\"))\n",
    "        SigzzT = np.array(g_o.getresults(phase, g_o.ResultTypes.Soil.SigzzT, \"node\"))\n",
    "        SigxxE = np.array(g_o.getresults(phase, g_o.ResultTypes.Soil.SigxxE, \"node\"))\n",
    "        SigyyE = np.array(g_o.getresults(phase, g_o.ResultTypes.Soil.SigyyE, \"node\"))\n",
    "        SigzzE  = np.array(g_o.getresults(phase, g_o.ResultTypes.Soil.SigzzE, \"node\"))\n",
    "        Sigxy = np.array(g_o.getresults(phase, g_o.ResultTypes.Soil.Sigxy, \"node\"))\n",
    "        SigmaTotal1 = np.array(g_o.getresults(phase, g_o.ResultTypes.Soil.SigmaTotal1, \"node\"))\n",
    "        SigmaTotal2 = np.array(g_o.getresults(phase, g_o.ResultTypes.Soil.SigmaTotal2, \"node\"))\n",
    "        SigmaTotal3 = np.array(g_o.getresults(phase, g_o.ResultTypes.Soil.SigmaTotal3, \"node\"))\n",
    "        SigmaEffective1 = np.array(g_o.getresults(phase, g_o.ResultTypes.Soil.SigmaEffective1, \"node\"))\n",
    "        SigmaEffective2 = np.array(g_o.getresults(phase, g_o.ResultTypes.Soil.SigmaEffective2, \"node\"))\n",
    "        SigmaEffective3 = np.array(g_o.getresults(phase, g_o.ResultTypes.Soil.SigmaEffective3, \"node\"))\n",
    "\n",
    "        # Combine into DataFrame\n",
    "        df = pd.DataFrame({\n",
    "            \"Phase\": phase_id,\n",
    "            \"x\": x,\n",
    "            \"y\": y,\n",
    "            \"Ux\": Ux,\n",
    "            \"Uy\": Uy,\n",
    "            \"Utot\": Utot,\n",
    "            \"PUx\": PUx,\n",
    "            \"PUy\": PUy,\n",
    "            \"PUtot\": PUtot,\n",
    "            \"SigxxT\": SigxxT,\n",
    "            \"SigyyT\": SigyyT,\n",
    "            \"SigzzT\": SigzzT,\n",
    "            \"SigxxE\": SigxxE,\n",
    "            \"SigyyE\": SigyyE,\n",
    "            \"SigzzE\": SigzzE,\n",
    "            \"Sigxy\": Sigxy,\n",
    "            \"SigmaTotal1\": SigmaTotal1,\n",
    "            \"SigmaTotal2\": SigmaTotal2,\n",
    "            \"SigmaTotal3\": SigmaTotal3,\n",
    "            \"SigmaEffective1\": SigmaEffective1,\n",
    "            \"SigmaEffective2\": SigmaEffective2,\n",
    "            \"SigmaEffective3\": SigmaEffective3\n",
    "        })\n",
    "\n",
    "        all_data.append(df)\n",
    "\n",
    "    # Concatenate all data and write to CSV\n",
    "    result_df = pd.concat(all_data, ignore_index=True)\n",
    "    result_df.to_csv(output_csv, index=False)\n",
    "    print(f\"Combined results saved to '{output_csv}'.\")\n",
    "\n",
    "export_soil_results(phases, \"Results_soil.csv\")"
   ]
  },
  {
   "cell_type": "markdown",
   "id": "30ee6c6d",
   "metadata": {},
   "source": [
    "### Store embedded beam results for all phases with embedded beams present"
   ]
  },
  {
   "cell_type": "code",
   "execution_count": 43,
   "id": "66957094",
   "metadata": {},
   "outputs": [
    {
     "name": "stdout",
     "output_type": "stream",
     "text": [
      "Processing phase: 4\n",
      "Processing phase: 5\n",
      "Processing phase: 6\n",
      "Processing phase: 7\n",
      "Processing phase: 8\n",
      "Processing phase: 9\n",
      "Processing phase: 10\n",
      "Combined results saved to 'Results_embedded_beam.csv'.\n"
     ]
    }
   ],
   "source": [
    "def export_embedded_beam_results(phases, output_csv):\n",
    "    \"\"\"\n",
    "    Exports embedded beam results from all phases into a single CSV file.\n",
    "\n",
    "    Parameters:\n",
    "    - phases: list of phase objects (e.g., g_i.Phases)\n",
    "    - g_o: output object from PLAXIS scripting\n",
    "    - output_csv: path to the final combined CSV file\n",
    "    \"\"\"\n",
    "    all_data = []\n",
    "\n",
    "    for phase in phases[4:]:\n",
    "        g_i.view(phase)\n",
    "        phase_name = phase.Name.value.strip(\"Phase_\")\n",
    "        print(f\"Processing phase: {phase_name}\")\n",
    "        \n",
    "        # Retrieve results\n",
    "        x = np.array(g_o.getresults(phase, g_o.ResultTypes.EmbeddedBeam.X, \"node\"))\n",
    "        y = np.array(g_o.getresults(phase, g_o.ResultTypes.EmbeddedBeam.Y, \"node\"))\n",
    "        Ux = np.array(g_o.getresults(phase, g_o.ResultTypes.EmbeddedBeam.Ux, \"node\"))\n",
    "        Uy = np.array(g_o.getresults(phase, g_o.ResultTypes.EmbeddedBeam.Uy, \"node\"))\n",
    "        Utot = np.array(g_o.getresults(phase, g_o.ResultTypes.EmbeddedBeam.Utot, \"node\"))\n",
    "        PUx = np.array(g_o.getresults(phase, g_o.ResultTypes.EmbeddedBeam.PUx, \"node\"))\n",
    "        PUy = np.array(g_o.getresults(phase, g_o.ResultTypes.EmbeddedBeam.PUy, \"node\"))\n",
    "        PUtot = np.array(g_o.getresults(phase, g_o.ResultTypes.EmbeddedBeam.PUtot, \"node\"))\n",
    "        N = np.array(g_o.getresults(phase, g_o.ResultTypes.EmbeddedBeam.Nx2D, \"node\"))\n",
    "        Q = np.array(g_o.getresults(phase, g_o.ResultTypes.EmbeddedBeam.Q2D, \"node\"))\n",
    "        M = np.array(g_o.getresults(phase, g_o.ResultTypes.EmbeddedBeam.M2D, \"node\"))\n",
    "        pile_number = split_pile_results()\n",
    "\n",
    "        # Combine into DataFrame\n",
    "        df = pd.DataFrame({\n",
    "            \"Phase\": phase_name,\n",
    "            \"x\": x,\n",
    "            \"y\": y,\n",
    "            \"Ux\": Ux,\n",
    "            \"Uy\": Uy,\n",
    "            \"Utot\": Utot,\n",
    "            \"PUx\": PUx,\n",
    "            \"PUy\": PUy,\n",
    "            \"PUtot\": PUtot,\n",
    "            \"N\": N,\n",
    "            \"Q\": Q,\n",
    "            \"M\": M,\n",
    "            \"pilenumber\": pile_number\n",
    "        })\n",
    "\n",
    "        all_data.append(df)\n",
    "\n",
    "    # Concatenate all data and write to CSV\n",
    "    result_df = pd.concat(all_data, ignore_index=True)\n",
    "    result_df.to_csv(output_csv, index=False)\n",
    "    print(f\"Combined results saved to '{output_csv}'.\")\n",
    "\n",
    "export_embedded_beam_results(g_i.Phases, \"Results_embedded_beam.csv\")\n"
   ]
  },
  {
   "cell_type": "markdown",
   "id": "92f429ec",
   "metadata": {},
   "source": [
    "## View some results"
   ]
  },
  {
   "cell_type": "markdown",
   "id": "00c5c239",
   "metadata": {},
   "source": [
    "### Total displacement"
   ]
  },
  {
   "cell_type": "code",
   "execution_count": 44,
   "id": "8de0bd40",
   "metadata": {},
   "outputs": [],
   "source": [
    "# Get the result data\n",
    "x = g_o.getresults(phase, g_o.ResultTypes.Soil.X, \"node\")\n",
    "y = g_o.getresults(phase, g_o.ResultTypes.Soil.Y, \"node\")\n",
    "u_tot = g_o.getresults(phase, g_o.ResultTypes.Soil.Utot, \"node\")  # total displacement"
   ]
  },
  {
   "cell_type": "code",
   "execution_count": 45,
   "id": "90ab1fbb",
   "metadata": {},
   "outputs": [
    {
     "data": {
      "image/png": "[encoded data removed]",
      "text/plain": [
       "<Figure size 1000x600 with 2 Axes>"
      ]
     },
     "metadata": {},
     "output_type": "display_data"
    }
   ],
   "source": [
    "# Step 1: Create grid\n",
    "xi = np.linspace(min(x), max(x), 300)\n",
    "yi = np.linspace(min(y), max(y), 300)\n",
    "xi, yi = np.meshgrid(xi, yi)\n",
    "\n",
    "# Step 2: Interpolate displacement onto grid\n",
    "zi = griddata((x, y), u_tot, (xi, yi), method='linear')\n",
    "\n",
    "# OPTIONAL Step 3: Mask out areas outside convex hull (or use alpha shape for better boundaries)\n",
    "boundary_points = np.array([    (xmin, ymin),\n",
    "    (xmin, -2.4),\n",
    "    Point_A,\n",
    "    Point_E,\n",
    "    Point_N,\n",
    "    Point_M,\n",
    "    (xmax, ymin)])\n",
    "polygon_path = Path(boundary_points)\n",
    "\n",
    "# Mask points outside the polygon\n",
    "grid_points = np.vstack((xi.flatten(), yi.flatten())).T\n",
    "mask = ~polygon_path.contains_points(grid_points)\n",
    "zi_flat = zi.flatten()\n",
    "zi_flat[mask] = np.nan\n",
    "zi_masked = zi_flat.reshape(xi.shape)\n",
    "\n",
    "# Step 4: Create PLAXIS-style colormap\n",
    "boundaries = np.linspace(np.nanmin(u_tot), np.nanmax(u_tot), len(colors) + 1)\n",
    "norm = BoundaryNorm(boundaries, cmap_PLAXIS.N)\n",
    "\n",
    "# Step 5: Plot\n",
    "plt.figure(figsize=(10, 6))\n",
    "cf = plt.contourf(xi, yi, zi_masked, levels=boundaries, cmap=cmap_PLAXIS, norm=norm)\n",
    "cb = plt.colorbar(cf)\n",
    "cb.set_label('Total Displacement (m)')\n",
    "\n",
    "plt.xlabel('X (m)')\n",
    "plt.ylabel('Y (m)')\n",
    "# plt.xlim(-5, 10)\n",
    "# plt.ylim(-6, y_GL)\n",
    "plt.title(f'Total Displacements in {phase.Name}')\n",
    "plt.grid(True)\n",
    "plt.tight_layout()\n",
    "plt.show()"
   ]
  },
  {
   "cell_type": "markdown",
   "id": "b2f9dcaa",
   "metadata": {},
   "source": [
    "### Create phased displacements view\n",
    "\n",
    "The initial phase is skipped, as no phase displacements are observed in the initial phase."
   ]
  },
  {
   "cell_type": "code",
   "execution_count": null,
   "id": "a9db5f3a",
   "metadata": {},
   "outputs": [],
   "source": [
    "# Define the number of columns per row\n",
    "max_columns = 2\n",
    "num_phases = len(phases)-1\n",
    "num_rows = (num_phases + max_columns - 1) // max_columns  # This calculates the number of rows needed\n",
    "\n",
    "xmin_plot, xmax_plot = -5, 8\n",
    "ymin_plot, ymax_plot = -3, y_GL\n",
    "\n",
    "# Create the figure with subplots\n",
    "fig, axes = plt.subplots(num_rows, max_columns, figsize=(15, 5 * num_rows))\n",
    "\n",
    "# Flatten axes array for easier iteration if there are more than one row\n",
    "axes = axes.flatten()\n",
    "\n",
    "# Iterate through each phase and plot its data\n",
    "for i in range(num_phases):\n",
    "    phase = phases[i+1]\n",
    "    g_i.view(phase)\n",
    "\n",
    "    # Get the result data\n",
    "    x = g_o.getresults(phase, g_o.ResultTypes.Soil.X, \"node\")\n",
    "    y = g_o.getresults(phase, g_o.ResultTypes.Soil.Y, \"node\")\n",
    "    PUtot = g_o.getresults(phase, g_o.ResultTypes.Soil.PUtot, \"node\")  # total displacement\n",
    "\n",
    "    # Step 4: Create PLAXIS-style colormap\n",
    "    boundaries = np.linspace(np.min(PUtot), np.max(PUtot), len(colors) + 1)\n",
    "    norm = BoundaryNorm(boundaries, cmap_PLAXIS.N)\n",
    "\n",
    "    # Plot on the corresponding subplot\n",
    "    ax = axes[i]\n",
    "    cf = ax.scatter(x, y, c=PUtot, cmap=cmap_PLAXIS, norm=norm)\n",
    "    cb = plt.colorbar(cf, ax=ax)\n",
    "    cb.set_label('Phase Displacement (m)')\n",
    "    \n",
    "    ax.set_xlabel('X (m)')\n",
    "    ax.set_ylabel('Y (m)')\n",
    "    ax.set_xlim(xmin_plot, xmax_plot)\n",
    "    ax.set_ylim(ymin_plot, ymax_plot)\n",
    "    ax.set_title(f'Phase Displacements in {phase.Name}')\n",
    "    ax.grid(True)\n",
    "\n",
    "# Turn off any unused subplots\n",
    "for j in range(num_phases, len(axes)):\n",
    "    axes[j].axis('off')\n",
    "\n",
    "# Adjust layout for a better fit\n",
    "plt.tight_layout()\n",
    "plt.show()"
   ]
  },
  {
   "cell_type": "markdown",
   "id": "c7597a15",
   "metadata": {},
   "source": [
    "### Structural forces in Piles"
   ]
  },
  {
   "cell_type": "code",
   "execution_count": null,
   "id": "bb3f9bd2",
   "metadata": {},
   "outputs": [],
   "source": [
    "# Select the final phase for the forces\n",
    "phase = phases[-1]\n",
    "g_i.view(phase)\n",
    "\n",
    "# print(dir(g_o.ResultTypes.EmbeddedBeam)) # This helps to find the right output\n",
    "# To create an np.array for each of these results and store them in a CSV file with the respective variable names (x, y, Ux, Uy, N, Q, M) as column headers, here's the script:\n",
    "# Assuming the values are obtained from getresults and are lists or arrays\n",
    "x = np.array(g_o.getresults(phase, g_o.ResultTypes.EmbeddedBeam.X, \"node\"))\n",
    "y = np.array(g_o.getresults(phase, g_o.ResultTypes.EmbeddedBeam.Y, \"node\"))\n",
    "Ux = np.array(g_o.getresults(phase, g_o.ResultTypes.EmbeddedBeam.Ux, \"node\"))\n",
    "Uy = np.array(g_o.getresults(phase, g_o.ResultTypes.EmbeddedBeam.Uy, \"node\"))\n",
    "Utot = np.array(g_o.getresults(phase, g_o.ResultTypes.EmbeddedBeam.Utot, \"node\"))\n",
    "PUx = np.array(g_o.getresults(phase, g_o.ResultTypes.EmbeddedBeam.PUx, \"node\"))\n",
    "PUy = np.array(g_o.getresults(phase, g_o.ResultTypes.EmbeddedBeam.PUy, \"node\"))\n",
    "PUtot = np.array(g_o.getresults(phase, g_o.ResultTypes.EmbeddedBeam.PUtot, \"node\"))\n",
    "N = np.array(g_o.getresults(phase, g_o.ResultTypes.EmbeddedBeam.Nx2D, \"node\"))\n",
    "Q = np.array(g_o.getresults(phase, g_o.ResultTypes.EmbeddedBeam.Q2D, \"node\"))\n",
    "M = np.array(g_o.getresults(phase, g_o.ResultTypes.EmbeddedBeam.M2D, \"node\"))"
   ]
  },
  {
   "cell_type": "code",
   "execution_count": null,
   "id": "f4edf7d0",
   "metadata": {},
   "outputs": [
    {
     "data": {
      "text/plain": [
       "10001"
      ]
     },
     "execution_count": 50,
     "metadata": {},
     "output_type": "execute_result"
    }
   ],
   "source": [
    "phase = phases[-1]\n",
    "g_i.view(phase)"
   ]
  },
  {
   "cell_type": "code",
   "execution_count": null,
   "id": "8bc1fac6",
   "metadata": {},
   "outputs": [],
   "source": [
    "# Create function that can return a specific property of a certain pile\n",
    "def xy_pile(quantity_x, quantity_y, pile, pile_number=pile_number):\n",
    "    quantity_x_np = np.array(quantity_x)\n",
    "    quantity_y_np = np.array(quantity_y)\n",
    "    index = int(pile)\n",
    "    \n",
    "    return quantity_x_np[pile_number==index], quantity_y_np[pile_number==index]"
   ]
  },
  {
   "cell_type": "code",
   "execution_count": null,
   "id": "e797493c",
   "metadata": {},
   "outputs": [
    {
     "data": {
      "image/png": "[encoded data removed]",
      "text/plain": [
       "<Figure size 600x600 with 3 Axes>"
      ]
     },
     "metadata": {},
     "output_type": "display_data"
    }
   ],
   "source": [
    "# Set up figure with 3 subplots\n",
    "width = 6\n",
    "height = width\n",
    "fig, axs = plt.subplots(1, 3, figsize=(width, height))\n",
    "\n",
    "# Define colors for piles\n",
    "colors = ['tab:red', 'tab:green', 'tab:blue']\n",
    "pile_labels = ['Pile 1', 'Pile 2', 'Pile 3']\n",
    "\n",
    "# Loop over each pile\n",
    "for i in range(1, 4):\n",
    "    N_i, y_i = xy_pile(N, y, i)\n",
    "    Q_i, _   = xy_pile(Q, y, i)\n",
    "    M_i, _   = xy_pile(M, y, i)\n",
    "    \n",
    "    axs[0].plot(N_i, y_i, label=pile_labels[i-1], color=colors[i-1])\n",
    "    axs[1].plot(Q_i, y_i, label=pile_labels[i-1], color=colors[i-1])\n",
    "    axs[2].plot(M_i, y_i, label=pile_labels[i-1], color=colors[i-1])\n",
    "\n",
    "# Customize each subplot\n",
    "for ax in axs:\n",
    "    ax.grid(True)  # Add gridlines to each subplot\n",
    "\n",
    "# Adjust titles with a smaller font size\n",
    "axs[0].set_title(\"Normal\\nForce\\n(N)\", fontsize=10)\n",
    "axs[0].set_xlabel(\"Force [kN]\")\n",
    "axs[0].set_ylabel(\"Depth [m]\")\n",
    "axs[0].invert_yaxis()\n",
    "axs[0].legend()\n",
    "\n",
    "axs[1].set_title(\"Shear\\nForce\\n(Q)\", fontsize=10)\n",
    "axs[1].set_xlabel(\"Force [kN]\")\n",
    "axs[1].legend()\n",
    "\n",
    "axs[2].set_title(\"Bending\\nMoment\\n(M)\", fontsize=10)\n",
    "axs[2].set_xlabel(\"Moment [kNm]\")\n",
    "axs[2].legend()\n",
    "\n",
    "plt.tight_layout()\n",
    "plt.show()"
   ]
  },
  {
   "cell_type": "code",
   "execution_count": null,
   "id": "f2e74855",
   "metadata": {},
   "outputs": [],
   "source": [
    "# s_i.close()"
   ]
  }
 ],
 "metadata": {
  "kernelspec": {
   "display_name": "base",
   "language": "python",
   "name": "python3"
  },
  "language_info": {
   "codemirror_mode": {
    "name": "ipython",
    "version": 3
   },
   "file_extension": ".py",
   "mimetype": "text/x-python",
   "name": "python",
   "nbconvert_exporter": "python",
   "pygments_lexer": "ipython3",
   "version": "3.12.7"
  }
 },
 "nbformat": 4,
 "nbformat_minor": 5
}
